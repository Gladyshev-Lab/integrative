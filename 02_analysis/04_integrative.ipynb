{
 "cells": [
  {
   "cell_type": "code",
   "execution_count": 1,
   "id": "57f6f86a-1e2b-4928-9ce3-de289040f9b3",
   "metadata": {},
   "outputs": [],
   "source": [
    "import pandas as pd\n",
    "import seaborn as sns\n",
    "import numpy as np\n",
    "import scipy as sp\n",
    "import matplotlib.pyplot as plt\n",
    "from scipy import stats\n",
    "from scipy.stats import ttest_ind\n",
    "from decimal import Decimal\n",
    "from statsmodels.sandbox.stats.multicomp import multipletests\n",
    "data='../data/'\n",
    "\n",
    "def get_p_rna(muld):\n",
    "    loss=muld[muld['dna_c']=='loss']['rna_cor']\n",
    "    gain=muld[muld['dna_c']=='gain']['rna_cor']\n",
    "    mid=muld[muld['dna_c']=='mid']['rna_cor']\n",
    "    loss=ttest_ind(loss, mid, equal_var=False)[1]\n",
    "    gain=ttest_ind(gain, mid, equal_var=False)[1]\n",
    "    print('%.e' % Decimal(loss), '%.e' % Decimal(gain))\n",
    "\n",
    "def get_p_dna(muld):    \n",
    "    loss=muld[muld['rna_c']=='down']['cor']\n",
    "    gain=muld[muld['rna_c']=='up']['cor']\n",
    "    mid=muld[muld['rna_c']=='mid']['cor']\n",
    "    loss=ttest_ind(loss, mid, equal_var=False)[1]\n",
    "    gain=ttest_ind(gain, mid, equal_var=False)[1]\n",
    "    print('%.e' % Decimal(loss), '%.e' % Decimal(gain))  "
   ]
  },
  {
   "cell_type": "code",
   "execution_count": 2,
   "id": "2042fd09-6f76-4e98-b051-72e18edce31e",
   "metadata": {},
   "outputs": [
    {
     "data": {
      "text/plain": [
       "(113280, 6)"
      ]
     },
     "execution_count": 2,
     "metadata": {},
     "output_type": "execute_result"
    }
   ],
   "source": [
    "rna_all=pd.read_csv(data+'results/rna_cor.csv',index_col=0)\n",
    "rna_all=rna_all.rename(columns={'cor':'rna_cor','p':'rna_p'})\n",
    "rna_all.index=rna_all['gen']\n",
    "rna_all.shape"
   ]
  },
  {
   "cell_type": "code",
   "execution_count": 3,
   "id": "078742a5-9aaf-4a39-879b-c62186d95e5a",
   "metadata": {},
   "outputs": [
    {
     "name": "stderr",
     "output_type": "stream",
     "text": [
      "<timed exec>:2: DtypeWarning: Columns (4,5) have mixed types. Specify dtype option on import or set low_memory=False.\n"
     ]
    },
    {
     "name": "stdout",
     "output_type": "stream",
     "text": [
      "CPU times: user 15.9 s, sys: 2.07 s, total: 18 s\n",
      "Wall time: 18 s\n"
     ]
    }
   ],
   "source": [
    "%%time\n",
    "man=pd.read_csv(data+'clean/man_e1.csv',index_col=0)\n",
    "dna_all=pd.read_csv(data+'results/dna_cor.csv',index_col=0)\n",
    "dna_all=man[['dis','ch','pos','gene']].join(dna_all,how='inner').sort_values(['ch','pos'])\n",
    "dna_all=dna_all.sort_values(['ch','pos'])"
   ]
  },
  {
   "cell_type": "code",
   "execution_count": 32,
   "id": "ab93c26e-1832-4b1f-8c17-aff1ac053974",
   "metadata": {},
   "outputs": [],
   "source": [
    "# DNAm -> RNA\n",
    "#DNam Gain NOT significant\n",
    "#DNAm Loss, NOT significant\n",
    "m=100; n=2000\n",
    "for dna_dir in ['DNAm loss','DNAm gain']:\n",
    "    pls=[]\n",
    "    for cohort in ['MESA1','MESA2','PPMI']:\n",
    "        rna=rna_all[rna_all['cohort']==cohort]\n",
    "        rna=rna.rename(columns={'cor':'rna_cor','p':'rna_p'})\n",
    "        dna=dna_all[dna_all['cohort']==cohort]\n",
    "        mul=dna.merge(rna[['rna_cor','rna_p']],left_on=['gene'],right_index=True,how='inner')\n",
    "        muld=mul[mul['dis'].abs()<n]    \n",
    "        muld=muld.sort_values('cor').copy()\n",
    "        muld['dnam_c']='all CpGs'\n",
    "        if dna_dir=='DNAm gain':\n",
    "            muld.loc[muld.index[-m:],'dnam_c']=dna_dir\n",
    "        else:\n",
    "            muld.loc[muld.index[:m],'dnam_c']=dna_dir\n",
    "        pl=muld[['dnam_c','rna_cor','cohort']]\n",
    "        pls.append(pl)\n",
    "    pls=pd.concat(pls)\n",
    "    pls.loc[pls['dnam_c']==dna_dir,'dot_plot']=pls.loc[pls['dnam_c']==dna_dir,'rna_cor']"
   ]
  },
  {
   "cell_type": "code",
   "execution_count": 36,
   "id": "25f28f68-ab82-4116-9ea0-47ea8377e6fb",
   "metadata": {},
   "outputs": [
    {
     "name": "stdout",
     "output_type": "stream",
     "text": [
      "CPU times: user 3.71 s, sys: 48.8 ms, total: 3.76 s\n",
      "Wall time: 4.03 s\n"
     ]
    },
    {
     "data": {
      "text/plain": [
       "(817998, 4)"
      ]
     },
     "execution_count": 36,
     "metadata": {},
     "output_type": "execute_result"
    }
   ],
   "source": [
    "%%time\n",
    "fig2a=pls[['dnam_c','rna_cor','cohort','dot_plot']]\n",
    "fig2a.to_csv(data+'figs/2a.csv')\n",
    "fig2a.shape"
   ]
  },
  {
   "cell_type": "code",
   "execution_count": 26,
   "id": "d3403cf3-366e-48a2-b87a-d91f0bad998e",
   "metadata": {},
   "outputs": [],
   "source": [
    "# RNA --> DNAm \n",
    "# Up regulated, NOT significant \n",
    "# Down regulated, SIGNIFICANT DNMm Gain\n",
    "m=100; n=2000\n",
    "for rna_dir in ['up-regulated','down-regulated']:\n",
    "    pls=[]\n",
    "    for cohort in ['MESA1','MESA2','PPMI']:\n",
    "        rna=rna_all[rna_all['cohort']==cohort]\n",
    "        dna=dna_all[(dna_all['cohort']==cohort)]\n",
    "        mul=dna.merge(rna[['rna_cor','rna_p']],left_on=['gene'],right_index=True,how='inner')\n",
    "        muld=mul[mul['dis'].abs()<n]    \n",
    "        muld=muld.sort_values('rna_cor').copy()\n",
    "        muld['rna_c']='all transcripts'\n",
    "        if rna_dir=='down-regulated':\n",
    "            muld.loc[muld.index[:m],'rna_c']=rna_dir\n",
    "        else:\n",
    "            muld.loc[muld.index[-m:],'rna_c']=rna_dir\n",
    "        pl=muld[['rna_c','cor','cohort']]\n",
    "        pls.append(pl)\n",
    "pls=pd.concat(pls)\n",
    "pls.loc[pls['rna_c']==rna_dir,'dot_plot']=pls.loc[pls['rna_c']==rna_dir,'cor']"
   ]
  },
  {
   "cell_type": "code",
   "execution_count": 27,
   "id": "28d16e27-c8a3-43de-8737-6ac86e6bf28e",
   "metadata": {},
   "outputs": [
    {
     "name": "stdout",
     "output_type": "stream",
     "text": [
      "CPU times: user 3.8 s, sys: 91.8 ms, total: 3.89 s\n",
      "Wall time: 3.95 s\n"
     ]
    },
    {
     "data": {
      "text/plain": [
       "(817998, 4)"
      ]
     },
     "execution_count": 27,
     "metadata": {},
     "output_type": "execute_result"
    }
   ],
   "source": [
    "%%time\n",
    "fig2b=pls[['rna_c','cor','cohort','dot_plot']]\n",
    "fig2b.to_csv(data+'figs/2b.csv')\n",
    "fig2b.shape"
   ]
  },
  {
   "cell_type": "code",
   "execution_count": 37,
   "id": "babd0904-e4ce-4c0a-8eaf-eb58d5728926",
   "metadata": {},
   "outputs": [],
   "source": [
    "m=100; n=2000\n",
    "rnap=.05\n",
    "pl=[]\n",
    "cohorts=['MESA1','MESA2','PPMI']\n",
    "for cohort in cohorts:\n",
    "    ## all genes\n",
    "    rna=rna_all[rna_all['cohort']==cohort]\n",
    "    cor_sub=rna.copy()\n",
    "    cor_sub['q']='Among all transcripts'\n",
    "    cor_sub['pp']=(cor_sub['rna_cor']<0)&(cor_sub['rna_p']<rnap) #down            \n",
    "    pl.append(cor_sub[['cohort','pp','q']])\n",
    "\n",
    "    ## aging genes\n",
    "    cor_sub=rna[rna['proposed']=='down'].copy()\n",
    "    cor_sub['q']=\"Among Peters et al's aging transcripts\"\n",
    "    cor_sub['pp']=(cor_sub['rna_cor']<0)&(cor_sub['rna_p']<rnap) #down\n",
    "    pl.append(cor_sub[['cohort','pp','q']])    \n",
    "    for i in [1,2]: \n",
    "        q=10**(-i)\n",
    "        dna=dna_all[dna_all['cohort']==cohort]\n",
    "        dd=dna[dna['dis'].abs()<=n].copy() ### 2000 fromTSS\n",
    "        dd['p']=(dd['p']<q)&(dd['cor']>0)              #DNAm gain\n",
    "        dd['p+']=dd['p'].shift(1) \n",
    "        dd['p-']=dd['p'].shift(-1)\n",
    "        dd['p3']=dd['p']&dd['p+']&dd['p-']\n",
    "        ddp=dd[dd['p3']==True]\n",
    "        cor_sub=rna[rna.index.isin(ddp['gene'])].copy()\n",
    "        cor_sub['q']='Among aging trans. & aging CpGs (p='+str(q)+')'\n",
    "        cor_sub=cor_sub[cor_sub['proposed']=='down']           #down\n",
    "        cor_sub['pp']=(cor_sub['rna_cor']<0)&(cor_sub['rna_p']<rnap) #down\n",
    "        pl.append(cor_sub[['cohort','pp','q']])   \n",
    "pl=pd.concat(pl) "
   ]
  },
  {
   "cell_type": "code",
   "execution_count": 19,
   "id": "14837772-81e0-40e5-ac5c-e2c689e23892",
   "metadata": {},
   "outputs": [
    {
     "name": "stdout",
     "output_type": "stream",
     "text": [
      "CPU times: user 160 ms, sys: 5.06 ms, total: 165 ms\n",
      "Wall time: 327 ms\n"
     ]
    },
    {
     "data": {
      "text/plain": [
       "(59380, 3)"
      ]
     },
     "execution_count": 19,
     "metadata": {},
     "output_type": "execute_result"
    }
   ],
   "source": [
    "%%time\n",
    "fig2e=pl\n",
    "fig2e.to_csv(data+'figs/2e.csv')\n",
    "fig2e.shape"
   ]
  }
 ],
 "metadata": {
  "kernelspec": {
   "display_name": "integrative",
   "language": "python",
   "name": "integrative"
  },
  "language_info": {
   "codemirror_mode": {
    "name": "ipython",
    "version": 3
   },
   "file_extension": ".py",
   "mimetype": "text/x-python",
   "name": "python",
   "nbconvert_exporter": "python",
   "pygments_lexer": "ipython3",
   "version": "3.12.9"
  }
 },
 "nbformat": 4,
 "nbformat_minor": 5
}
