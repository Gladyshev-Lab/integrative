{
 "cells": [
  {
   "cell_type": "code",
   "execution_count": 1,
   "id": "06d40374-ac6c-46cd-8fd8-412cbc4a2ce3",
   "metadata": {},
   "outputs": [],
   "source": [
    "import pandas as pd\n",
    "import seaborn as sns\n",
    "import numpy as np\n",
    "from scipy import stats\n",
    "import biolearn\n",
    "from biolearn.data_library import DataLibrary\n",
    "\n",
    "def df2dt(df,man):\n",
    "    dt=df.loc[df.index.intersection(man.index)]\n",
    "    dt=dt.dropna(axis=1, thresh=len(dt) * 0.8).copy()\n",
    "    dt=dt.dropna(thresh=len(dt.columns) * 0.8).copy()\n",
    "    return dt\n",
    "\n",
    "def get_cor(dt):\n",
    "    regs=[]\n",
    "    x=np.array(dt)\n",
    "    y=dt['age']\n",
    "    for i in range(len(x[0])):\n",
    "        mask = ~np.isnan(x[:,i]) & ~np.isnan(y)\n",
    "        regs.append(stats.linregress(y[mask],x[:,i][mask]))\n",
    "    cor=pd.DataFrame(np.array(regs)[:,2:4],index=dt.columns,columns=['cor','p']).sort_values('cor',ascending=False)\n",
    "    return cor\n",
    "data='../data/'\n",
    "cache=biolearn.cache.LocalFolderCache(data+'cache',1000)\n",
    "\n",
    "n=6"
   ]
  },
  {
   "cell_type": "code",
   "execution_count": 2,
   "id": "97e11cbb-b7d2-4712-8432-706cfcd20ea5",
   "metadata": {},
   "outputs": [
    {
     "name": "stdout",
     "output_type": "stream",
     "text": [
      "CPU times: user 2.94 s, sys: 377 ms, total: 3.31 s\n",
      "Wall time: 3.32 s\n"
     ]
    },
    {
     "data": {
      "text/plain": [
       "(846233, 13)"
      ]
     },
     "execution_count": 2,
     "metadata": {},
     "output_type": "execute_result"
    }
   ],
   "source": [
    "%%time\n",
    "man=pd.read_csv(data+'clean/man_e1.csv',index_col=0)\n",
    "man.shape"
   ]
  },
  {
   "cell_type": "code",
   "execution_count": 62,
   "id": "567ac3ed-62cf-4e3f-ba6c-bf5a6e100ce9",
   "metadata": {},
   "outputs": [
    {
     "name": "stdout",
     "output_type": "stream",
     "text": [
      "CPU times: user 29.7 s, sys: 1min 2s, total: 1min 32s\n",
      "Wall time: 2min\n"
     ]
    }
   ],
   "source": [
    "%%time\n",
    "meta=pd.read_csv(data+'clean/cohorts/meta/mesa_dna.csv',index_col=0)\n",
    "df=pd.read_pickle(data+'pkls/dna/mesa.pkl')\n",
    "df=df[[c for c in meta.index]]\n",
    "dt=df2dt(df,man)"
   ]
  },
  {
   "cell_type": "code",
   "execution_count": 63,
   "id": "6c09cc24-fd8e-43e9-88bc-fb89e57a054c",
   "metadata": {},
   "outputs": [
    {
     "name": "stdout",
     "output_type": "stream",
     "text": [
      "CPU times: user 17.1 s, sys: 22.3 s, total: 39.4 s\n",
      "Wall time: 39.6 s\n"
     ]
    }
   ],
   "source": [
    "%%time\n",
    "dt=meta[['visit','age','sid']].merge(dt.T,left_index=True,right_index=True)\n",
    "dt[['age','visit','sid','cg16867657','cg08097417','cg06639320','cg22213242','cg09837977','cg02756106','cg26768584']].to_csv(data+'results/top_cgs_mesa.csv') #for Fig2\n",
    "d1=dt[dt['visit']==1].drop(['sid','visit'],axis=1).copy()\n",
    "d2=dt[dt['visit']==2].drop(['sid','visit'],axis=1).copy()"
   ]
  },
  {
   "cell_type": "code",
   "execution_count": 53,
   "id": "13796618-b779-4434-82cc-0c505c45eb57",
   "metadata": {},
   "outputs": [
    {
     "name": "stdout",
     "output_type": "stream",
     "text": [
      "CPU times: user 13min 7s, sys: 29.2 s, total: 13min 37s\n",
      "Wall time: 13min 39s\n"
     ]
    }
   ],
   "source": [
    "%%time\n",
    "cor1=get_cor(d1)\n",
    "cor2=get_cor(d2)\n",
    "cor1['cohort']='mesa1'\n",
    "cor2['cohort']='mesa2'\n",
    "cor=pd.concat([cor1,cor2]).drop('age')\n",
    "cor.to_csv(data+'results/dna_corr/mesa.csv')"
   ]
  },
  {
   "cell_type": "code",
   "execution_count": 64,
   "id": "3a273a3e-c253-419b-8019-e58db40e424a",
   "metadata": {},
   "outputs": [
    {
     "name": "stdout",
     "output_type": "stream",
     "text": [
      "CPU times: user 5min 51s, sys: 29.9 s, total: 6min 21s\n",
      "Wall time: 6min 30s\n"
     ]
    }
   ],
   "source": [
    "%%time\n",
    "cohort='ppmi'\n",
    "df=pd.read_pickle(data+'pkls/dna/ppmi.pkl')\n",
    "dt=df2dt(df,man)\n",
    "age=pd.read_csv(data+'clean/cohorts/meta/ppmi_dna.csv',index_col=0)['age']\n",
    "dt=dt.T.join(age,how='inner')\n",
    "dt[['age','cg16867657','cg08097417','cg06639320','cg22213242','cg09837977','cg02756106','cg26768584']].to_csv(data+'results/top_cgs_ppmi.csv')  #for Fig2\n",
    "cor=get_cor(dt).drop('age')\n",
    "cor['cohort']=cohort\n",
    "cor.to_csv(data+'results/dna_corr/ppmi.csv')"
   ]
  },
  {
   "cell_type": "code",
   "execution_count": 61,
   "id": "0cd3955f-3901-43b3-9fb8-b9321461988f",
   "metadata": {},
   "outputs": [
    {
     "name": "stdout",
     "output_type": "stream",
     "text": [
      "CPU times: user 7min 17s, sys: 47.2 s, total: 8min 4s\n",
      "Wall time: 8min 6s\n"
     ]
    }
   ],
   "source": [
    "%%time\n",
    "cohort='grady'\n",
    "df=pd.read_pickle(data+'pkls/dna/grady.pkl')\n",
    "dt=df2dt(df,man)\n",
    "age=pd.read_csv(data+'clean/cohorts/meta/grady.csv',index_col=0)['age']\n",
    "dt=dt.T.join(age,how='inner')\n",
    "cor=get_cor(dt).drop('age')\n",
    "cor['cohort']=cohort\n",
    "cor.to_csv(data+'results/dna_corr/grady.csv')"
   ]
  },
  {
   "cell_type": "code",
   "execution_count": 8,
   "id": "f6e7d4df-28b7-414f-8c9a-e35db6ff8c44",
   "metadata": {},
   "outputs": [
    {
     "name": "stdout",
     "output_type": "stream",
     "text": [
      "CPU times: user 3min 37s, sys: 24.5 s, total: 4min 2s\n",
      "Wall time: 4min 9s\n"
     ]
    }
   ],
   "source": [
    "%%time\n",
    "cohort='geno'\n",
    "df=pd.read_pickle(data+'pkls/dna/geno.pkl')\n",
    "dt=df2dt(df,man)\n",
    "geo='GSE157131'\n",
    "meta = DataLibrary(cache=cache).get(geo).load().metadata\n",
    "meta['sex']=meta['sex']-1\n",
    "dt=meta[['age']].join(df.T)\n",
    "cor=get_cor(dt).drop('age')\n",
    "cor['cohort']=cohort\n",
    "cor.to_csv(data+'results/dna_corr/geno.csv')"
   ]
  },
  {
   "cell_type": "code",
   "execution_count": 9,
   "id": "558b7800-3390-428b-8cbb-33365597cc6c",
   "metadata": {},
   "outputs": [
    {
     "name": "stdout",
     "output_type": "stream",
     "text": [
      "CPU times: user 3min 52s, sys: 19.4 s, total: 4min 11s\n",
      "Wall time: 4min 18s\n"
     ]
    }
   ],
   "source": [
    "%%time\n",
    "cohort='ra'\n",
    "df=pd.read_pickle(data+'pkls/dna/ra.pkl')\n",
    "dt=df2dt(df,man)\n",
    "geo='GSE42861'\n",
    "meta = DataLibrary(cache=cache).get(geo).load().metadata\n",
    "meta['sex']=meta['sex']-1\n",
    "dt=meta[['age']].join(df.T)\n",
    "cor=get_cor(dt).drop('age')\n",
    "cor['cohort']=cohort\n",
    "cor.to_csv(data+'results/dna_corr/ra.csv')"
   ]
  },
  {
   "cell_type": "code",
   "execution_count": 10,
   "id": "97318762-0ea8-41b8-ad0a-c495467236df",
   "metadata": {},
   "outputs": [],
   "source": [
    "# MGB is EPIC2"
   ]
  },
  {
   "cell_type": "code",
   "execution_count": 11,
   "id": "860ba68d-9111-4309-8a83-de62d7b69ec2",
   "metadata": {},
   "outputs": [
    {
     "name": "stdout",
     "output_type": "stream",
     "text": [
      "CPU times: user 2.95 s, sys: 300 ms, total: 3.25 s\n",
      "Wall time: 3.25 s\n"
     ]
    },
    {
     "data": {
      "text/plain": [
       "(905622, 14)"
      ]
     },
     "execution_count": 11,
     "metadata": {},
     "output_type": "execute_result"
    }
   ],
   "source": [
    "%%time\n",
    "man2=pd.read_csv(data+'clean/man_e2.csv',index_col=0)\n",
    "man2.shape"
   ]
  },
  {
   "cell_type": "code",
   "execution_count": 12,
   "id": "b8230f9f-1a10-4476-931e-5a8332e3ad53",
   "metadata": {},
   "outputs": [
    {
     "name": "stdout",
     "output_type": "stream",
     "text": [
      "CPU times: user 5min 46s, sys: 10.7 s, total: 5min 56s\n",
      "Wall time: 5min 57s\n"
     ]
    },
    {
     "data": {
      "text/plain": [
       "(825095, 3)"
      ]
     },
     "execution_count": 12,
     "metadata": {},
     "output_type": "execute_result"
    }
   ],
   "source": [
    "%%time\n",
    "cohort='mgb'\n",
    "df=pd.read_pickle(data+'pkls/dna/mgb.pkl').T\n",
    "### df mgb.pkl is already cleaned and filtered so no need to do dt=df2dt(df,man2)\n",
    "dt=df.copy()\n",
    "age=pd.read_csv(data+'clean/cohorts/meta/mgb.csv',index_col=0)['age_at_sample'].rename('age')\n",
    "dt=dt.join(age,how='inner')\n",
    "cor=get_cor(dt).drop('age')\n",
    "cor['cohort']=cohort\n",
    "cor.to_csv(data+'results/dna_corr/mgb.csv')\n",
    "cor.shape"
   ]
  },
  {
   "cell_type": "code",
   "execution_count": null,
   "id": "287fe63c-9e1e-408a-8244-fd72220fba85",
   "metadata": {},
   "outputs": [],
   "source": [
    "%%time\n",
    "ppmi=pd.read_csv(data+'results/dna_corr/ppmi.csv',index_col=0)\n",
    "grady=pd.read_csv(data+'results/dna_corr/grady.csv',index_col=0)\n",
    "geno=pd.read_csv(data+'results/dna_corr/geno.csv',index_col=0)\n",
    "ra=pd.read_csv(data+'results/dna_corr/ra.csv',index_col=0)\n",
    "mesa=pd.read_csv(data+'results/dna_corr/mesa.csv',index_col=0)\n",
    "mgb=pd.read_csv(data+'results/dna_corr/mgb.csv',index_col=0);mgb['cohort']='mgb'\n",
    "dna=pd.concat([mesa,ppmi,ra,grady,geno,mgb])\n",
    "# CpGs from Kaplan paper\n",
    "clock=pd.read_excel(data+'source/kaplan.xlsx',index_col=0).iloc[:-1].sort_values('Spearman correlation',ascending=False)\n",
    "clock.loc[clock['Spearman correlation']>0,'dir']='gain'\n",
    "clock.loc[clock['Spearman correlation']<0,'dir']='loss'\n",
    "gain=clock[clock['dir']=='gain']\n",
    "loss=clock[clock['dir']=='loss']\n",
    "gain10=clock[clock['dir']=='gain'].head(10)\n",
    "loss10=clock[clock['dir']=='loss'].tail(10)\n",
    "len(gain),len(loss),len(gain10),len(loss10)\n",
    "dna.loc[dna.index.isin(gain.index),'proposed']='up'\n",
    "dna.loc[dna.index.isin(loss.index),'proposed']='down'\n",
    "dna.loc[dna.index.isin(gain10.index),'top10']='up'\n",
    "dna.loc[dna.index.isin(loss10.index),'top10']='down'\n",
    "cohorts={'mesa1':'MESA1','mesa2':'MESA2','ppmi':'PPMI','ra':'RA','grady':'Grady','geno':'GENOA','mgb':'MGB'}\n",
    "dna['cohort']=dna['cohort'].replace(cohorts)\n",
    "top=dna[dna['top10'].isin(['up','down'])].copy()\n",
    "top['cg']=top.index\n",
    "dna.to_csv(data+'results/dna_cor.csv')\n",
    "fig1f=top[['cor','cohort','cg','top10']]\n",
    "fig1h=dna[dna['cohort']!='MGB'][['cor','cohort','proposed']]\n",
    "fidg3b=dna[['cor','cohort','proposed']]\n",
    "fig1f.to_csv(data+'figs/1f.csv')\n",
    "fig1h.to_csv(data+'figs/1h.csv')\n",
    "fig1h.to_csv(data+'figs/3b.csv')"
   ]
  }
 ],
 "metadata": {
  "kernelspec": {
   "display_name": "integrative",
   "language": "python",
   "name": "integrative"
  },
  "language_info": {
   "codemirror_mode": {
    "name": "ipython",
    "version": 3
   },
   "file_extension": ".py",
   "mimetype": "text/x-python",
   "name": "python",
   "nbconvert_exporter": "python",
   "pygments_lexer": "ipython3",
   "version": "3.12.9"
  }
 },
 "nbformat": 4,
 "nbformat_minor": 5
}
