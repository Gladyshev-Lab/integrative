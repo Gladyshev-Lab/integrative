{
 "cells": [
  {
   "cell_type": "code",
   "execution_count": 14,
   "id": "7ae40f22-fbee-4d8b-8552-43a346275b82",
   "metadata": {},
   "outputs": [],
   "source": [
    "import pandas as pd\n",
    "from bisect import bisect_left\n",
    "data='../data/'"
   ]
  },
  {
   "cell_type": "code",
   "execution_count": 16,
   "id": "5559ebcc-f89c-4fb5-9fd7-ba2e8daa01f6",
   "metadata": {},
   "outputs": [
    {
     "name": "stdout",
     "output_type": "stream",
     "text": [
      "CPU times: user 49.2 s, sys: 721 ms, total: 50 s\n",
      "Wall time: 50.6 s\n"
     ]
    }
   ],
   "source": [
    "%%time\n",
    "#EPIC1 manifest from Illumina website, remove sex chromosomes, get global coordinates\n",
    "man=pd.read_csv(data+'input/infinium-methylationepic-v-1-0-b5-manifest-file.csv',skiprows=7,index_col=0, \n",
    "                usecols=['IlmnID','CHR_hg38','Start_hg38','Forward_Sequence','UCSC_RefGene_Name','UCSC_RefGene_Group','Relation_to_UCSC_CpG_Island']) ##### MESA is EPIC v1\n",
    "man=man[man['CHR_hg38'].isin(['chr'+str(c) for c in range(1,23)])].copy()\n",
    "man['ch']=man['CHR_hg38'].str[3:].astype(int)\n",
    "man['pos']=man['Start_hg38'].astype(int)\n",
    "man['g']=man['ch'].astype(int)*10**9+man['pos']\n",
    "man_out=get_fn(man,genes,strands)\n",
    "man_out.to_csv(data+'clean/man_e1.csv')"
   ]
  },
  {
   "cell_type": "code",
   "execution_count": 18,
   "id": "dc467ea6-1526-406e-ac01-a5e7aae6724f",
   "metadata": {},
   "outputs": [
    {
     "name": "stdout",
     "output_type": "stream",
     "text": [
      "CPU times: user 56.6 s, sys: 1.86 s, total: 58.4 s\n",
      "Wall time: 59 s\n"
     ]
    }
   ],
   "source": [
    "%%time\n",
    "#EPIC2 manifest from Illumina website, remove sex chromosomes, get global coordinates \n",
    "man=pd.read_csv(data+'input/EPIC-8v2-0_A1.csv',skiprows=7,index_col=0, low_memory=False,\n",
    "                usecols=['IlmnID','Name','CHR','MAPINFO','Forward_Sequence','UCSC_RefGene_Name','UCSC_RefGene_Group','Relation_to_UCSC_CpG_Island']) ##### MGB is EPIC v2 A1\n",
    "man=man[man['CHR'].isin(['chr'+str(c) for c in range(1,23)])].copy()\n",
    "man['ch']=man['CHR'].str[3:].astype(int)\n",
    "man['pos']=man['MAPINFO'].astype(int)\n",
    "man['g']=man['ch'].astype(int)*10**9+man['pos']\n",
    "man_out=get_fn(man,genes,strands)\n",
    "man_out.to_csv(data+'clean/man_e2.csv')"
   ]
  },
  {
   "cell_type": "code",
   "execution_count": null,
   "id": "d2a8a5af-5771-424c-bbb1-7e2e65409b10",
   "metadata": {},
   "outputs": [],
   "source": []
  }
 ],
 "metadata": {
  "kernelspec": {
   "display_name": "integrative",
   "language": "python",
   "name": "integrative"
  },
  "language_info": {
   "codemirror_mode": {
    "name": "ipython",
    "version": 3
   },
   "file_extension": ".py",
   "mimetype": "text/x-python",
   "name": "python",
   "nbconvert_exporter": "python",
   "pygments_lexer": "ipython3",
   "version": "3.12.9"
  }
 },
 "nbformat": 4,
 "nbformat_minor": 5
}
