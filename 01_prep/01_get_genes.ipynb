{
 "cells": [
  {
   "cell_type": "code",
   "execution_count": null,
   "id": "e36f99b5-4350-43f9-b92a-7d3c34843518",
   "metadata": {},
   "outputs": [],
   "source": [
    "#get a list of genes and their canonical TSS and "
   ]
  },
  {
   "cell_type": "code",
   "execution_count": 2,
   "id": "7ae40f22-fbee-4d8b-8552-43a346275b82",
   "metadata": {},
   "outputs": [],
   "source": [
    "import pandas as pd\n",
    "from bisect import bisect_left\n",
    "data='../data/'\n",
    "\n",
    "def fn(myList, myNumber): #utility function to get the closest posision from myList to a give posision myNumber\n",
    "    pos = bisect_left(myList, myNumber)\n",
    "    if pos == 0:\n",
    "        return myList[0]\n",
    "    if pos == len(myList):\n",
    "        return myList[-1]\n",
    "    before = myList[pos - 1]\n",
    "    after = myList[pos]\n",
    "    if after - myNumber < myNumber - before:\n",
    "        return after\n",
    "    else:\n",
    "        return before \n",
    "def get_fn(man,genes,strands): #get name, distance, and direction of the closest gene (based on TSS)\n",
    "    dis=[]\n",
    "    name=[]\n",
    "    strand=[]\n",
    "    tss=[]\n",
    "    for i,b in man[['g']].iterrows():\n",
    "        fns=fn(genes.index,b['g'])\n",
    "        tss.append(fns)\n",
    "        dis.append(b['g']-fns)\n",
    "        name.append(genes.loc[fns])     \n",
    "        strand.append(strands.loc[fns])\n",
    "    man['dis']=dis\n",
    "    man['gene']=name\n",
    "    man['strand']=strand\n",
    "    man['tss']=tss\n",
    "    return man"
   ]
  },
  {
   "cell_type": "code",
   "execution_count": 3,
   "id": "5559ebcc-f89c-4fb5-9fd7-ba2e8daa01f6",
   "metadata": {},
   "outputs": [
    {
     "name": "stdout",
     "output_type": "stream",
     "text": [
      "(90830, 5)\n"
     ]
    },
    {
     "data": {
      "text/html": [
       "<div>\n",
       "<style scoped>\n",
       "    .dataframe tbody tr th:only-of-type {\n",
       "        vertical-align: middle;\n",
       "    }\n",
       "\n",
       "    .dataframe tbody tr th {\n",
       "        vertical-align: top;\n",
       "    }\n",
       "\n",
       "    .dataframe thead th {\n",
       "        text-align: right;\n",
       "    }\n",
       "</style>\n",
       "<table border=\"1\" class=\"dataframe\">\n",
       "  <thead>\n",
       "    <tr style=\"text-align: right;\">\n",
       "      <th></th>\n",
       "      <th>gen</th>\n",
       "      <th>ch</th>\n",
       "      <th>ts</th>\n",
       "      <th>+</th>\n",
       "      <th>tss</th>\n",
       "    </tr>\n",
       "    <tr>\n",
       "      <th>Gene stable ID</th>\n",
       "      <th></th>\n",
       "      <th></th>\n",
       "      <th></th>\n",
       "      <th></th>\n",
       "      <th></th>\n",
       "    </tr>\n",
       "  </thead>\n",
       "  <tbody>\n",
       "    <tr>\n",
       "      <th>ENSG00000142611</th>\n",
       "      <td>PRDM16</td>\n",
       "      <td>1</td>\n",
       "      <td>3069168</td>\n",
       "      <td>1</td>\n",
       "      <td>1003069168</td>\n",
       "    </tr>\n",
       "  </tbody>\n",
       "</table>\n",
       "</div>"
      ],
      "text/plain": [
       "                    gen  ch       ts  +         tss\n",
       "Gene stable ID                                     \n",
       "ENSG00000142611  PRDM16   1  3069168  1  1003069168"
      ]
     },
     "execution_count": 3,
     "metadata": {},
     "output_type": "execute_result"
    }
   ],
   "source": [
    "# get TSSs (for coding genes). biomart.txt from biomart website\n",
    "gen=pd.read_table(data+'input/biomart.txt',nrows=10**6,index_col=0,\n",
    "                 usecols=['Gene stable ID','Protein stable ID', 'Gene name', 'Strand', 'Transcript start (bp)',\n",
    "       'Transcript end (bp)', 'Chromosome/scaffold name','Ensembl Canonical']) # from Ensemble gencode, limit:chr1-22 , features:ch, strand, prot, chr, beg, end, ENSG, cannonical, symbol, \n",
    "gen.columns=['prot','gen','+','beg','end','can','ch'] \n",
    "gen=gen[gen['prot'].notna()].copy() ### protein coding\n",
    "gen['ts']=gen.apply(lambda x: x['beg'] if x['+']==1 else x['end'],axis=1)\n",
    "gen=gen[['gen','ch','ts','+']].drop_duplicates()\n",
    "gen['tss']=gen['ch'].astype(int)*10**9+gen['ts']\n",
    "genes=gen[['gen','tss']].drop_duplicates().groupby('tss')['gen'].agg(\"first\")\n",
    "strands=gen[['+','tss']].drop_duplicates().groupby('tss')['+'].agg(\"first\")\n",
    "print(gen.shape)\n",
    "gen.head(1)"
   ]
  },
  {
   "cell_type": "code",
   "execution_count": 6,
   "id": "ab62f84f-03cc-450e-91fe-ed1a3393fe5d",
   "metadata": {},
   "outputs": [
    {
     "data": {
      "text/plain": [
       "18937"
      ]
     },
     "execution_count": 6,
     "metadata": {},
     "output_type": "execute_result"
    }
   ],
   "source": [
    "gend=gen['gen'].drop_duplicates()\n",
    "gend.to_csv(data+'/clean/genes.csv')\n",
    "len(gend)"
   ]
  },
  {
   "cell_type": "code",
   "execution_count": null,
   "id": "737d8b76-5f47-492c-a9da-79906daf528a",
   "metadata": {},
   "outputs": [],
   "source": []
  }
 ],
 "metadata": {
  "kernelspec": {
   "display_name": "integrative",
   "language": "python",
   "name": "integrative"
  },
  "language_info": {
   "codemirror_mode": {
    "name": "ipython",
    "version": 3
   },
   "file_extension": ".py",
   "mimetype": "text/x-python",
   "name": "python",
   "nbconvert_exporter": "python",
   "pygments_lexer": "ipython3",
   "version": "3.12.9"
  }
 },
 "nbformat": 4,
 "nbformat_minor": 5
}
