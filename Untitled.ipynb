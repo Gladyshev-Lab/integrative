{
 "cells": [
  {
   "cell_type": "code",
   "execution_count": 9,
   "id": "dbead9a6-86f3-46f3-aef6-bcac4d0386e1",
   "metadata": {},
   "outputs": [],
   "source": [
    "import pandas"
   ]
  },
  {
   "cell_type": "code",
   "execution_count": null,
   "id": "9da11b7e-ba6d-42ac-bfa9-1fd7ffb04915",
   "metadata": {},
   "outputs": [],
   "source": []
  }
 ],
 "metadata": {
  "kernelspec": {
   "display_name": "integrative",
   "language": "python",
   "name": "integrative"
  },
  "language_info": {
   "codemirror_mode": {
    "name": "ipython",
    "version": 3
   },
   "file_extension": ".py",
   "mimetype": "text/x-python",
   "name": "python",
   "nbconvert_exporter": "python",
   "pygments_lexer": "ipython3",
   "version": "3.12.9"
  }
 },
 "nbformat": 4,
 "nbformat_minor": 5
}
