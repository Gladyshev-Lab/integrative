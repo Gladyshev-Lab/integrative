{
 "cells": [
  {
   "cell_type": "code",
   "execution_count": 1,
   "id": "86907788-9b60-4a83-b1a4-72b7283cab31",
   "metadata": {},
   "outputs": [],
   "source": [
    "import pandas as pd\n",
    "import numpy as np\n",
    "import glob,os\n",
    "import xlrd\n",
    "data='../data/'\n",
    "import biolearn\n",
    "from biolearn.data_library import DataLibrary\n",
    "cache=biolearn.cache.LocalFolderCache(data+'cache',1000)\n",
    "n=6"
   ]
  },
  {
   "cell_type": "code",
   "execution_count": 2,
   "id": "ee0ed51f-c7e3-48c1-b03c-a1e37b5ee14a",
   "metadata": {},
   "outputs": [],
   "source": [
    "# MAKE DATA PICKLES from DNAm data"
   ]
  },
  {
   "cell_type": "code",
   "execution_count": 3,
   "id": "dac997d4-70c9-4965-84e0-d6ee17749956",
   "metadata": {},
   "outputs": [
    {
     "name": "stdout",
     "output_type": "stream",
     "text": [
      "CPU times: user 3min 17s, sys: 53.6 s, total: 4min 11s\n",
      "Wall time: 4min 41s\n"
     ]
    },
    {
     "data": {
      "text/plain": [
       "(866553, 1955)"
      ]
     },
     "execution_count": 3,
     "metadata": {},
     "output_type": "execute_result"
    }
   ],
   "source": [
    "%%time\n",
    "#MESA\n",
    "mesa=pd.read_csv(data+'source/cohorts/mesa/dnam.csv',nrows=10**n,index_col=0)\n",
    "mesa=mesa[[c for c in mesa.columns if 'BIS' in c]]\n",
    "mesa.columns=mesa.columns.str.split('-').str[0]\n",
    "mesa.to_pickle(data+'pkls/dna/mesa.pkl')\n",
    "mesa.shape"
   ]
  },
  {
   "cell_type": "code",
   "execution_count": 4,
   "id": "37b2fa5f-8fbf-4c4d-9f6b-f5dfca4fa0d5",
   "metadata": {},
   "outputs": [
    {
     "name": "stdout",
     "output_type": "stream",
     "text": [
      "CPU times: user 35.3 s, sys: 9.53 s, total: 44.9 s\n",
      "Wall time: 53.1 s\n"
     ]
    },
    {
     "data": {
      "text/plain": [
       "(865918, 524)"
      ]
     },
     "execution_count": 4,
     "metadata": {},
     "output_type": "execute_result"
    }
   ],
   "source": [
    "%%time\n",
    "#PPMI\n",
    "ppmi=pd.read_csv(data+'source/cohorts/ppmi/dna.csv',index_col=0,nrows=10**n)\n",
    "ppmi.to_pickle(data+'pkls/dna/ppmi.pkl')\n",
    "ppmi.shape"
   ]
  },
  {
   "cell_type": "code",
   "execution_count": 5,
   "id": "ec720078-4a68-4002-9235-dc26a67e37fa",
   "metadata": {},
   "outputs": [
    {
     "name": "stdout",
     "output_type": "stream",
     "text": [
      "CPU times: user 2min 11s, sys: 25.4 s, total: 2min 37s\n",
      "Wall time: 2min 50s\n"
     ]
    },
    {
     "data": {
      "text/plain": [
       "(817958, 795)"
      ]
     },
     "execution_count": 5,
     "metadata": {},
     "output_type": "execute_result"
    }
   ],
   "source": [
    "%%time\n",
    "##GRADY\n",
    "df=pd.read_csv(data+'source/cohorts/grady/GSE132203_Geo_Submission_GTPEpic.csv',nrows=10**n,usecols=[0]+list(range(1,1591,2)),index_col=0).round(3)\n",
    "df.to_pickle(data+'pkls/dna/grady.pkl')\n",
    "df.shape"
   ]
  },
  {
   "cell_type": "code",
   "execution_count": 6,
   "id": "d41299ca-ff5b-413e-9357-f7b1c5676f83",
   "metadata": {},
   "outputs": [
    {
     "name": "stdout",
     "output_type": "stream",
     "text": [
      "CPU times: user 29.4 s, sys: 7.61 s, total: 37 s\n",
      "Wall time: 43.8 s\n"
     ]
    },
    {
     "data": {
      "text/plain": [
       "(825095, 461)"
      ]
     },
     "execution_count": 6,
     "metadata": {},
     "output_type": "execute_result"
    }
   ],
   "source": [
    "%%time\n",
    "##MGB\n",
    "df=pd.read_csv(data+'source/cohorts/mgb/dna.csv',nrows=10**n,index_col=0)\n",
    "df.columns=df.columns.str.split('-').str[0]\n",
    "df.to_pickle(data+'pkls/dna/mgb.pkl')\n",
    "df.shape"
   ]
  },
  {
   "cell_type": "code",
   "execution_count": 7,
   "id": "b5cf340d-d687-4525-8ec7-507df917fb3b",
   "metadata": {},
   "outputs": [
    {
     "name": "stdout",
     "output_type": "stream",
     "text": [
      "CPU times: user 6.04 s, sys: 6.36 s, total: 12.4 s\n",
      "Wall time: 20.4 s\n"
     ]
    },
    {
     "data": {
      "text/plain": [
       "(445198, 946)"
      ]
     },
     "execution_count": 7,
     "metadata": {},
     "output_type": "execute_result"
    }
   ],
   "source": [
    "%%time\n",
    "##GENO\n",
    "geo='GSE157131'\n",
    "bio_geno = DataLibrary(cache=cache).get(geo).load()\n",
    "df=bio_geno.dnam\n",
    "df.to_pickle(data+'pkls/dna/geno.pkl')\n",
    "df.shape"
   ]
  },
  {
   "cell_type": "code",
   "execution_count": 8,
   "id": "b740d4e4-3134-4a31-a45c-dc48183c6574",
   "metadata": {},
   "outputs": [
    {
     "name": "stdout",
     "output_type": "stream",
     "text": [
      "CPU times: user 6.29 s, sys: 4.08 s, total: 10.4 s\n",
      "Wall time: 16.5 s\n"
     ]
    },
    {
     "data": {
      "text/plain": [
       "(485577, 689)"
      ]
     },
     "execution_count": 8,
     "metadata": {},
     "output_type": "execute_result"
    }
   ],
   "source": [
    "%%time\n",
    "##RA\n",
    "geo='GSE42861'\n",
    "bio_ra = DataLibrary(cache=cache).get(geo).load()\n",
    "df=bio_ra.dnam\n",
    "df.to_pickle(data+'pkls/dna/ra.pkl')\n",
    "df.shape"
   ]
  }
 ],
 "metadata": {
  "kernelspec": {
   "display_name": "integrative",
   "language": "python",
   "name": "integrative"
  },
  "language_info": {
   "codemirror_mode": {
    "name": "ipython",
    "version": 3
   },
   "file_extension": ".py",
   "mimetype": "text/x-python",
   "name": "python",
   "nbconvert_exporter": "python",
   "pygments_lexer": "ipython3",
   "version": "3.12.9"
  }
 },
 "nbformat": 4,
 "nbformat_minor": 5
}
