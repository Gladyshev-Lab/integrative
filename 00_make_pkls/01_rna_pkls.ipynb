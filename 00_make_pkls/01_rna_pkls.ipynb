{
 "cells": [
  {
   "cell_type": "code",
   "execution_count": 1,
   "id": "86907788-9b60-4a83-b1a4-72b7283cab31",
   "metadata": {},
   "outputs": [],
   "source": [
    "import pandas as pd\n",
    "import numpy as np\n",
    "import glob,os\n",
    "import xlrd\n",
    "data='../data/'\n",
    "n=6"
   ]
  },
  {
   "cell_type": "code",
   "execution_count": null,
   "id": "ee0ed51f-c7e3-48c1-b03c-a1e37b5ee14a",
   "metadata": {},
   "outputs": [],
   "source": [
    "# MAKE DATA PICKLES frona RNA data"
   ]
  },
  {
   "cell_type": "code",
   "execution_count": 28,
   "id": "93862ab6-0993-43ea-8ad3-cffb44e8f627",
   "metadata": {},
   "outputs": [
    {
     "name": "stdout",
     "output_type": "stream",
     "text": [
      "CPU times: user 13.8 ms, sys: 1.21 s, total: 1.23 s\n",
      "Wall time: 4 s\n"
     ]
    },
    {
     "data": {
      "text/plain": [
       "(58311, 2772)"
      ]
     },
     "execution_count": 28,
     "metadata": {},
     "output_type": "execute_result"
    }
   ],
   "source": [
    "%%time\n",
    "#MESA\n",
    "mesa_=data+'source/cohorts/mesa/TOPMed_MESA_RNAseq_Pilot_RSEMv1.3.0.rsem_genes_expected_count.txt'\n",
    "mesa=pd.read_table(mesa_,index_col=0,nrows=10**n,usecols=[0]+list(range(2,2774)))\n",
    "mesa.to_pickle(data+'pkls/rna/mesa.pkl')\n",
    "mesa.shape"
   ]
  },
  {
   "cell_type": "code",
   "execution_count": null,
   "id": "7d9000b8-09e6-4f4a-8de5-ef333ff54c5c",
   "metadata": {},
   "outputs": [],
   "source": [
    "%%time\n",
    "#PPMI\n",
    "path=data+'source/cohorts/ppmi/rna/'\n",
    "all_files = glob.glob(os.path.join(path, \"*.sf\"))\n",
    "df = pd.concat((pd.read_table(f,sep=' ') for f in all_files), ignore_index=True)\n",
    "ss=[]\n",
    "for f in all_files:\n",
    "    s=f.split('IR3.')[1].split('.BL')[0]\n",
    "    ss.append(s)\n",
    "df['s']=np.repeat(ss,58294)    \n",
    "dfw=df.pivot(index='s',columns='Name')\n",
    "dfw.columns=[c[1] for c in dfw.columns]\n",
    "dt=dfw.T    \n",
    "dt.to_pickle(data+'pkls/rna/ppmi.pkl')\n",
    "dt.shape"
   ]
  },
  {
   "cell_type": "code",
   "execution_count": 48,
   "id": "1bd9269b-ed85-4dbc-a9b3-501ab41d7bf6",
   "metadata": {},
   "outputs": [
    {
     "name": "stdout",
     "output_type": "stream",
     "text": [
      "CPU times: user 522 ms, sys: 77.7 ms, total: 599 ms\n",
      "Wall time: 700 ms\n"
     ]
    },
    {
     "data": {
      "text/plain": [
       "(15676, 419)"
      ]
     },
     "execution_count": 48,
     "metadata": {},
     "output_type": "execute_result"
    }
   ],
   "source": [
    "%%time\n",
    "#GC6\n",
    "gc=pd.read_csv(data+'source/cohorts/gc6/GSE94438_rawCounts_GeneNames_AllSamples.csv',index_col=0)\n",
    "gc.to_pickle(data+'pkls/rna/gc6.pkl')\n",
    "gc.shape"
   ]
  },
  {
   "cell_type": "code",
   "execution_count": 38,
   "id": "1a7ff69a-bb29-4077-a9fb-bdee246972a1",
   "metadata": {},
   "outputs": [
    {
     "name": "stdout",
     "output_type": "stream",
     "text": [
      "CPU times: user 325 ms, sys: 36.9 ms, total: 362 ms\n",
      "Wall time: 427 ms\n"
     ]
    },
    {
     "data": {
      "text/plain": [
       "(42991, 100)"
      ]
     },
     "execution_count": 38,
     "metadata": {},
     "output_type": "execute_result"
    }
   ],
   "source": [
    "%%time\n",
    "#DUTCH\n",
    "dutch=pd.read_csv(data+'source/cohorts/dutch/GSE134080_500FG_RNASeq_counts.txt',index_col=0)\n",
    "dutch.to_pickle(data+'pkls/rna/dutch.pkl')\n",
    "dutch.shape"
   ]
  },
  {
   "cell_type": "code",
   "execution_count": null,
   "id": "e09d1735-3573-447a-9b10-18a3580d73c9",
   "metadata": {},
   "outputs": [],
   "source": [
    "%%time\n",
    "#JENA\n",
    "jen1=pd.read_excel(data+'source/cohorts/jena/GSE103232_hs_blood_batch2_counts_rpkm.xls',index_col=0)\n",
    "jen2=pd.read_excel(data+'source/cohorts/jena/GSE75337_counts_RPKMs.xls',index_col=0)\n",
    "jen2=jen2[[c for c in jen2.columns if 'blood' in c]]\n",
    "jen=jen1.join(jen2)\n",
    "jen.to_pickle(data+'pkls/rna/jena.pkl')\n",
    "jen.shape"
   ]
  }
 ],
 "metadata": {
  "kernelspec": {
   "display_name": "integrative",
   "language": "python",
   "name": "integrative"
  },
  "language_info": {
   "codemirror_mode": {
    "name": "ipython",
    "version": 3
   },
   "file_extension": ".py",
   "mimetype": "text/x-python",
   "name": "python",
   "nbconvert_exporter": "python",
   "pygments_lexer": "ipython3",
   "version": "3.12.9"
  }
 },
 "nbformat": 4,
 "nbformat_minor": 5
}
